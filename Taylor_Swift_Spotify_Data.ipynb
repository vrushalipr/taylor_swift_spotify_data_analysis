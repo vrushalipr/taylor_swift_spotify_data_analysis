{
  "nbformat": 4,
  "nbformat_minor": 0,
  "metadata": {
    "colab": {
      "provenance": [],
      "mount_file_id": "1d63EUMaGJlnOHzutfbTg6KiQcuHtVtxX",
      "authorship_tag": "ABX9TyOBTcihdvNcmT0dddb1PUDR"
    },
    "kernelspec": {
      "name": "python3",
      "display_name": "Python 3"
    },
    "language_info": {
      "name": "python"
    }
  },
  "cells": [
    {
      "cell_type": "markdown",
      "source": [
        "Analyzing Taylor Swift Splotify data from kaggle"
      ],
      "metadata": {
        "id": "Ck8RACFh5-lL"
      }
    },
    {
      "cell_type": "markdown",
      "source": [
        "**Exploratory Data Analysis**\n",
        "\n",
        "This notebook focuses on the first step of any data science project.\n",
        "EDA or exploratory Data Analysis is to get familiar to our data, identifying important columns, perform data manipulation and asking interesting questions from our data visualization tools.\n",
        "\n",
        "Try doing valence analysis of each song, or find what makes a song popular."
      ],
      "metadata": {
        "id": "RXOMdiv5PDei"
      }
    },
    {
      "cell_type": "code",
      "execution_count": null,
      "metadata": {
        "id": "pauSg6Uq1kdp"
      },
      "outputs": [],
      "source": [
        "import pandas as pd\n",
        "import numpy as np\n",
        "import matplotlib.pyplot as plt\n",
        "\n",
        "%matplotlib inline\n",
        "import seaborn as sns "
      ]
    },
    {
      "cell_type": "code",
      "source": [
        "swift_dataset = pd.read_csv('/spotify_taylorswift.csv',encoding='ISO-8859-1')"
      ],
      "metadata": {
        "id": "pKhIt_3W59qk"
      },
      "execution_count": null,
      "outputs": []
    },
    {
      "cell_type": "code",
      "source": [
        "from google.colab import drive\n",
        "drive.mount(\"/content/drive\")"
      ],
      "metadata": {
        "id": "DQvtCiB9599k",
        "colab": {
          "base_uri": "https://localhost:8080/"
        },
        "outputId": "acd5780e-4eef-42c4-9385-7f1ba728d1e1"
      },
      "execution_count": null,
      "outputs": [
        {
          "output_type": "stream",
          "name": "stdout",
          "text": [
            "Drive already mounted at /content/drive; to attempt to forcibly remount, call drive.mount(\"/content/drive\", force_remount=True).\n"
          ]
        }
      ]
    },
    {
      "cell_type": "code",
      "source": [
        "swift_dataset.head()"
      ],
      "metadata": {
        "id": "lrSjQpFd5-Kn",
        "colab": {
          "base_uri": "https://localhost:8080/",
          "height": 461
        },
        "outputId": "8a3a2ca7-3b7e-4e5d-bdb0-894c2a16707b"
      },
      "execution_count": null,
      "outputs": [
        {
          "output_type": "execute_result",
          "data": {
            "text/plain": [
              "   Unnamed: 0                                         name         album  \\\n",
              "0           0                                   Tim McGraw  Taylor Swift   \n",
              "1           1                              Picture To Burn  Taylor Swift   \n",
              "2           2  Teardrops On My Guitar - Radio Single Remix  Taylor Swift   \n",
              "3           3                        A Place in this World  Taylor Swift   \n",
              "4           4                                  Cold As You  Taylor Swift   \n",
              "\n",
              "         artist release_date  length  popularity  danceability  acousticness  \\\n",
              "0  Taylor Swift   2006-10-24  232106          49         0.580         0.575   \n",
              "1  Taylor Swift   2006-10-24  173066          54         0.658         0.173   \n",
              "2  Taylor Swift   2006-10-24  203040          59         0.621         0.288   \n",
              "3  Taylor Swift   2006-10-24  199200          49         0.576         0.051   \n",
              "4  Taylor Swift   2006-10-24  239013          50         0.418         0.217   \n",
              "\n",
              "   energy  instrumentalness  liveness  loudness  speechiness  valence    tempo  \n",
              "0   0.491               0.0    0.1210    -6.462       0.0251    0.425   76.009  \n",
              "1   0.877               0.0    0.0962    -2.098       0.0323    0.821  105.586  \n",
              "2   0.417               0.0    0.1190    -6.941       0.0231    0.289   99.953  \n",
              "3   0.777               0.0    0.3200    -2.881       0.0324    0.428  115.028  \n",
              "4   0.482               0.0    0.1230    -5.769       0.0266    0.261  175.558  "
            ],
            "text/html": [
              "\n",
              "  <div id=\"df-380f4a36-024f-42d9-987d-bce4b31248bc\">\n",
              "    <div class=\"colab-df-container\">\n",
              "      <div>\n",
              "<style scoped>\n",
              "    .dataframe tbody tr th:only-of-type {\n",
              "        vertical-align: middle;\n",
              "    }\n",
              "\n",
              "    .dataframe tbody tr th {\n",
              "        vertical-align: top;\n",
              "    }\n",
              "\n",
              "    .dataframe thead th {\n",
              "        text-align: right;\n",
              "    }\n",
              "</style>\n",
              "<table border=\"1\" class=\"dataframe\">\n",
              "  <thead>\n",
              "    <tr style=\"text-align: right;\">\n",
              "      <th></th>\n",
              "      <th>Unnamed: 0</th>\n",
              "      <th>name</th>\n",
              "      <th>album</th>\n",
              "      <th>artist</th>\n",
              "      <th>release_date</th>\n",
              "      <th>length</th>\n",
              "      <th>popularity</th>\n",
              "      <th>danceability</th>\n",
              "      <th>acousticness</th>\n",
              "      <th>energy</th>\n",
              "      <th>instrumentalness</th>\n",
              "      <th>liveness</th>\n",
              "      <th>loudness</th>\n",
              "      <th>speechiness</th>\n",
              "      <th>valence</th>\n",
              "      <th>tempo</th>\n",
              "    </tr>\n",
              "  </thead>\n",
              "  <tbody>\n",
              "    <tr>\n",
              "      <th>0</th>\n",
              "      <td>0</td>\n",
              "      <td>Tim McGraw</td>\n",
              "      <td>Taylor Swift</td>\n",
              "      <td>Taylor Swift</td>\n",
              "      <td>2006-10-24</td>\n",
              "      <td>232106</td>\n",
              "      <td>49</td>\n",
              "      <td>0.580</td>\n",
              "      <td>0.575</td>\n",
              "      <td>0.491</td>\n",
              "      <td>0.0</td>\n",
              "      <td>0.1210</td>\n",
              "      <td>-6.462</td>\n",
              "      <td>0.0251</td>\n",
              "      <td>0.425</td>\n",
              "      <td>76.009</td>\n",
              "    </tr>\n",
              "    <tr>\n",
              "      <th>1</th>\n",
              "      <td>1</td>\n",
              "      <td>Picture To Burn</td>\n",
              "      <td>Taylor Swift</td>\n",
              "      <td>Taylor Swift</td>\n",
              "      <td>2006-10-24</td>\n",
              "      <td>173066</td>\n",
              "      <td>54</td>\n",
              "      <td>0.658</td>\n",
              "      <td>0.173</td>\n",
              "      <td>0.877</td>\n",
              "      <td>0.0</td>\n",
              "      <td>0.0962</td>\n",
              "      <td>-2.098</td>\n",
              "      <td>0.0323</td>\n",
              "      <td>0.821</td>\n",
              "      <td>105.586</td>\n",
              "    </tr>\n",
              "    <tr>\n",
              "      <th>2</th>\n",
              "      <td>2</td>\n",
              "      <td>Teardrops On My Guitar - Radio Single Remix</td>\n",
              "      <td>Taylor Swift</td>\n",
              "      <td>Taylor Swift</td>\n",
              "      <td>2006-10-24</td>\n",
              "      <td>203040</td>\n",
              "      <td>59</td>\n",
              "      <td>0.621</td>\n",
              "      <td>0.288</td>\n",
              "      <td>0.417</td>\n",
              "      <td>0.0</td>\n",
              "      <td>0.1190</td>\n",
              "      <td>-6.941</td>\n",
              "      <td>0.0231</td>\n",
              "      <td>0.289</td>\n",
              "      <td>99.953</td>\n",
              "    </tr>\n",
              "    <tr>\n",
              "      <th>3</th>\n",
              "      <td>3</td>\n",
              "      <td>A Place in this World</td>\n",
              "      <td>Taylor Swift</td>\n",
              "      <td>Taylor Swift</td>\n",
              "      <td>2006-10-24</td>\n",
              "      <td>199200</td>\n",
              "      <td>49</td>\n",
              "      <td>0.576</td>\n",
              "      <td>0.051</td>\n",
              "      <td>0.777</td>\n",
              "      <td>0.0</td>\n",
              "      <td>0.3200</td>\n",
              "      <td>-2.881</td>\n",
              "      <td>0.0324</td>\n",
              "      <td>0.428</td>\n",
              "      <td>115.028</td>\n",
              "    </tr>\n",
              "    <tr>\n",
              "      <th>4</th>\n",
              "      <td>4</td>\n",
              "      <td>Cold As You</td>\n",
              "      <td>Taylor Swift</td>\n",
              "      <td>Taylor Swift</td>\n",
              "      <td>2006-10-24</td>\n",
              "      <td>239013</td>\n",
              "      <td>50</td>\n",
              "      <td>0.418</td>\n",
              "      <td>0.217</td>\n",
              "      <td>0.482</td>\n",
              "      <td>0.0</td>\n",
              "      <td>0.1230</td>\n",
              "      <td>-5.769</td>\n",
              "      <td>0.0266</td>\n",
              "      <td>0.261</td>\n",
              "      <td>175.558</td>\n",
              "    </tr>\n",
              "  </tbody>\n",
              "</table>\n",
              "</div>\n",
              "      <button class=\"colab-df-convert\" onclick=\"convertToInteractive('df-380f4a36-024f-42d9-987d-bce4b31248bc')\"\n",
              "              title=\"Convert this dataframe to an interactive table.\"\n",
              "              style=\"display:none;\">\n",
              "        \n",
              "  <svg xmlns=\"http://www.w3.org/2000/svg\" height=\"24px\"viewBox=\"0 0 24 24\"\n",
              "       width=\"24px\">\n",
              "    <path d=\"M0 0h24v24H0V0z\" fill=\"none\"/>\n",
              "    <path d=\"M18.56 5.44l.94 2.06.94-2.06 2.06-.94-2.06-.94-.94-2.06-.94 2.06-2.06.94zm-11 1L8.5 8.5l.94-2.06 2.06-.94-2.06-.94L8.5 2.5l-.94 2.06-2.06.94zm10 10l.94 2.06.94-2.06 2.06-.94-2.06-.94-.94-2.06-.94 2.06-2.06.94z\"/><path d=\"M17.41 7.96l-1.37-1.37c-.4-.4-.92-.59-1.43-.59-.52 0-1.04.2-1.43.59L10.3 9.45l-7.72 7.72c-.78.78-.78 2.05 0 2.83L4 21.41c.39.39.9.59 1.41.59.51 0 1.02-.2 1.41-.59l7.78-7.78 2.81-2.81c.8-.78.8-2.07 0-2.86zM5.41 20L4 18.59l7.72-7.72 1.47 1.35L5.41 20z\"/>\n",
              "  </svg>\n",
              "      </button>\n",
              "      \n",
              "  <style>\n",
              "    .colab-df-container {\n",
              "      display:flex;\n",
              "      flex-wrap:wrap;\n",
              "      gap: 12px;\n",
              "    }\n",
              "\n",
              "    .colab-df-convert {\n",
              "      background-color: #E8F0FE;\n",
              "      border: none;\n",
              "      border-radius: 50%;\n",
              "      cursor: pointer;\n",
              "      display: none;\n",
              "      fill: #1967D2;\n",
              "      height: 32px;\n",
              "      padding: 0 0 0 0;\n",
              "      width: 32px;\n",
              "    }\n",
              "\n",
              "    .colab-df-convert:hover {\n",
              "      background-color: #E2EBFA;\n",
              "      box-shadow: 0px 1px 2px rgba(60, 64, 67, 0.3), 0px 1px 3px 1px rgba(60, 64, 67, 0.15);\n",
              "      fill: #174EA6;\n",
              "    }\n",
              "\n",
              "    [theme=dark] .colab-df-convert {\n",
              "      background-color: #3B4455;\n",
              "      fill: #D2E3FC;\n",
              "    }\n",
              "\n",
              "    [theme=dark] .colab-df-convert:hover {\n",
              "      background-color: #434B5C;\n",
              "      box-shadow: 0px 1px 3px 1px rgba(0, 0, 0, 0.15);\n",
              "      filter: drop-shadow(0px 1px 2px rgba(0, 0, 0, 0.3));\n",
              "      fill: #FFFFFF;\n",
              "    }\n",
              "  </style>\n",
              "\n",
              "      <script>\n",
              "        const buttonEl =\n",
              "          document.querySelector('#df-380f4a36-024f-42d9-987d-bce4b31248bc button.colab-df-convert');\n",
              "        buttonEl.style.display =\n",
              "          google.colab.kernel.accessAllowed ? 'block' : 'none';\n",
              "\n",
              "        async function convertToInteractive(key) {\n",
              "          const element = document.querySelector('#df-380f4a36-024f-42d9-987d-bce4b31248bc');\n",
              "          const dataTable =\n",
              "            await google.colab.kernel.invokeFunction('convertToInteractive',\n",
              "                                                     [key], {});\n",
              "          if (!dataTable) return;\n",
              "\n",
              "          const docLinkHtml = 'Like what you see? Visit the ' +\n",
              "            '<a target=\"_blank\" href=https://colab.research.google.com/notebooks/data_table.ipynb>data table notebook</a>'\n",
              "            + ' to learn more about interactive tables.';\n",
              "          element.innerHTML = '';\n",
              "          dataTable['output_type'] = 'display_data';\n",
              "          await google.colab.output.renderOutput(dataTable, element);\n",
              "          const docLink = document.createElement('div');\n",
              "          docLink.innerHTML = docLinkHtml;\n",
              "          element.appendChild(docLink);\n",
              "        }\n",
              "      </script>\n",
              "    </div>\n",
              "  </div>\n",
              "  "
            ]
          },
          "metadata": {},
          "execution_count": 9
        }
      ]
    },
    {
      "cell_type": "markdown",
      "source": [
        "Finding most popular songs"
      ],
      "metadata": {
        "id": "Tj_p8mlkxB-M"
      }
    },
    {
      "cell_type": "code",
      "source": [
        "swift_dataset.nlargest(5, ['popularity'])"
      ],
      "metadata": {
        "colab": {
          "base_uri": "https://localhost:8080/",
          "height": 426
        },
        "id": "YuVLFUuAvsjW",
        "outputId": "079960bb-7f82-4031-e4dd-24770ab40c97"
      },
      "execution_count": 53,
      "outputs": [
        {
          "output_type": "execute_result",
          "data": {
            "text/plain": [
              "     Unnamed: 0                   name          album        artist  \\\n",
              "60           60            Blank Space  1989 (Deluxe)  Taylor Swift   \n",
              "64           64           Shake It Off  1989 (Deluxe)  Taylor Swift   \n",
              "95           95                  Lover          Lover  Taylor Swift   \n",
              "82           82               Delicate     reputation  Taylor Swift   \n",
              "106         106  You Need To Calm Down          Lover  Taylor Swift   \n",
              "\n",
              "    release_date  length  popularity  danceability  acousticness  energy  \\\n",
              "60    2014-01-01  231826          82         0.760       0.10300   0.703   \n",
              "64    2014-01-01  219200          80         0.647       0.06470   0.800   \n",
              "95    2019-08-23  221306          80         0.359       0.49200   0.543   \n",
              "82    2017-11-10  232253          78         0.750       0.21600   0.404   \n",
              "106   2019-08-23  171360          78         0.771       0.00929   0.671   \n",
              "\n",
              "     instrumentalness  liveness  loudness  speechiness  valence    tempo  \n",
              "60           0.000000    0.0913    -5.412       0.0540   0.5700   95.997  \n",
              "64           0.000000    0.3340    -5.384       0.1650   0.9420  160.078  \n",
              "95           0.000016    0.1180    -7.582       0.0919   0.4530   68.534  \n",
              "82           0.000357    0.0911   -10.178       0.0682   0.0499   95.045  \n",
              "106          0.000000    0.0637    -5.617       0.0553   0.7140   85.026  "
            ],
            "text/html": [
              "\n",
              "  <div id=\"df-1bfaea1c-bca4-443e-878e-a20f22cdab2c\">\n",
              "    <div class=\"colab-df-container\">\n",
              "      <div>\n",
              "<style scoped>\n",
              "    .dataframe tbody tr th:only-of-type {\n",
              "        vertical-align: middle;\n",
              "    }\n",
              "\n",
              "    .dataframe tbody tr th {\n",
              "        vertical-align: top;\n",
              "    }\n",
              "\n",
              "    .dataframe thead th {\n",
              "        text-align: right;\n",
              "    }\n",
              "</style>\n",
              "<table border=\"1\" class=\"dataframe\">\n",
              "  <thead>\n",
              "    <tr style=\"text-align: right;\">\n",
              "      <th></th>\n",
              "      <th>Unnamed: 0</th>\n",
              "      <th>name</th>\n",
              "      <th>album</th>\n",
              "      <th>artist</th>\n",
              "      <th>release_date</th>\n",
              "      <th>length</th>\n",
              "      <th>popularity</th>\n",
              "      <th>danceability</th>\n",
              "      <th>acousticness</th>\n",
              "      <th>energy</th>\n",
              "      <th>instrumentalness</th>\n",
              "      <th>liveness</th>\n",
              "      <th>loudness</th>\n",
              "      <th>speechiness</th>\n",
              "      <th>valence</th>\n",
              "      <th>tempo</th>\n",
              "    </tr>\n",
              "  </thead>\n",
              "  <tbody>\n",
              "    <tr>\n",
              "      <th>60</th>\n",
              "      <td>60</td>\n",
              "      <td>Blank Space</td>\n",
              "      <td>1989 (Deluxe)</td>\n",
              "      <td>Taylor Swift</td>\n",
              "      <td>2014-01-01</td>\n",
              "      <td>231826</td>\n",
              "      <td>82</td>\n",
              "      <td>0.760</td>\n",
              "      <td>0.10300</td>\n",
              "      <td>0.703</td>\n",
              "      <td>0.000000</td>\n",
              "      <td>0.0913</td>\n",
              "      <td>-5.412</td>\n",
              "      <td>0.0540</td>\n",
              "      <td>0.5700</td>\n",
              "      <td>95.997</td>\n",
              "    </tr>\n",
              "    <tr>\n",
              "      <th>64</th>\n",
              "      <td>64</td>\n",
              "      <td>Shake It Off</td>\n",
              "      <td>1989 (Deluxe)</td>\n",
              "      <td>Taylor Swift</td>\n",
              "      <td>2014-01-01</td>\n",
              "      <td>219200</td>\n",
              "      <td>80</td>\n",
              "      <td>0.647</td>\n",
              "      <td>0.06470</td>\n",
              "      <td>0.800</td>\n",
              "      <td>0.000000</td>\n",
              "      <td>0.3340</td>\n",
              "      <td>-5.384</td>\n",
              "      <td>0.1650</td>\n",
              "      <td>0.9420</td>\n",
              "      <td>160.078</td>\n",
              "    </tr>\n",
              "    <tr>\n",
              "      <th>95</th>\n",
              "      <td>95</td>\n",
              "      <td>Lover</td>\n",
              "      <td>Lover</td>\n",
              "      <td>Taylor Swift</td>\n",
              "      <td>2019-08-23</td>\n",
              "      <td>221306</td>\n",
              "      <td>80</td>\n",
              "      <td>0.359</td>\n",
              "      <td>0.49200</td>\n",
              "      <td>0.543</td>\n",
              "      <td>0.000016</td>\n",
              "      <td>0.1180</td>\n",
              "      <td>-7.582</td>\n",
              "      <td>0.0919</td>\n",
              "      <td>0.4530</td>\n",
              "      <td>68.534</td>\n",
              "    </tr>\n",
              "    <tr>\n",
              "      <th>82</th>\n",
              "      <td>82</td>\n",
              "      <td>Delicate</td>\n",
              "      <td>reputation</td>\n",
              "      <td>Taylor Swift</td>\n",
              "      <td>2017-11-10</td>\n",
              "      <td>232253</td>\n",
              "      <td>78</td>\n",
              "      <td>0.750</td>\n",
              "      <td>0.21600</td>\n",
              "      <td>0.404</td>\n",
              "      <td>0.000357</td>\n",
              "      <td>0.0911</td>\n",
              "      <td>-10.178</td>\n",
              "      <td>0.0682</td>\n",
              "      <td>0.0499</td>\n",
              "      <td>95.045</td>\n",
              "    </tr>\n",
              "    <tr>\n",
              "      <th>106</th>\n",
              "      <td>106</td>\n",
              "      <td>You Need To Calm Down</td>\n",
              "      <td>Lover</td>\n",
              "      <td>Taylor Swift</td>\n",
              "      <td>2019-08-23</td>\n",
              "      <td>171360</td>\n",
              "      <td>78</td>\n",
              "      <td>0.771</td>\n",
              "      <td>0.00929</td>\n",
              "      <td>0.671</td>\n",
              "      <td>0.000000</td>\n",
              "      <td>0.0637</td>\n",
              "      <td>-5.617</td>\n",
              "      <td>0.0553</td>\n",
              "      <td>0.7140</td>\n",
              "      <td>85.026</td>\n",
              "    </tr>\n",
              "  </tbody>\n",
              "</table>\n",
              "</div>\n",
              "      <button class=\"colab-df-convert\" onclick=\"convertToInteractive('df-1bfaea1c-bca4-443e-878e-a20f22cdab2c')\"\n",
              "              title=\"Convert this dataframe to an interactive table.\"\n",
              "              style=\"display:none;\">\n",
              "        \n",
              "  <svg xmlns=\"http://www.w3.org/2000/svg\" height=\"24px\"viewBox=\"0 0 24 24\"\n",
              "       width=\"24px\">\n",
              "    <path d=\"M0 0h24v24H0V0z\" fill=\"none\"/>\n",
              "    <path d=\"M18.56 5.44l.94 2.06.94-2.06 2.06-.94-2.06-.94-.94-2.06-.94 2.06-2.06.94zm-11 1L8.5 8.5l.94-2.06 2.06-.94-2.06-.94L8.5 2.5l-.94 2.06-2.06.94zm10 10l.94 2.06.94-2.06 2.06-.94-2.06-.94-.94-2.06-.94 2.06-2.06.94z\"/><path d=\"M17.41 7.96l-1.37-1.37c-.4-.4-.92-.59-1.43-.59-.52 0-1.04.2-1.43.59L10.3 9.45l-7.72 7.72c-.78.78-.78 2.05 0 2.83L4 21.41c.39.39.9.59 1.41.59.51 0 1.02-.2 1.41-.59l7.78-7.78 2.81-2.81c.8-.78.8-2.07 0-2.86zM5.41 20L4 18.59l7.72-7.72 1.47 1.35L5.41 20z\"/>\n",
              "  </svg>\n",
              "      </button>\n",
              "      \n",
              "  <style>\n",
              "    .colab-df-container {\n",
              "      display:flex;\n",
              "      flex-wrap:wrap;\n",
              "      gap: 12px;\n",
              "    }\n",
              "\n",
              "    .colab-df-convert {\n",
              "      background-color: #E8F0FE;\n",
              "      border: none;\n",
              "      border-radius: 50%;\n",
              "      cursor: pointer;\n",
              "      display: none;\n",
              "      fill: #1967D2;\n",
              "      height: 32px;\n",
              "      padding: 0 0 0 0;\n",
              "      width: 32px;\n",
              "    }\n",
              "\n",
              "    .colab-df-convert:hover {\n",
              "      background-color: #E2EBFA;\n",
              "      box-shadow: 0px 1px 2px rgba(60, 64, 67, 0.3), 0px 1px 3px 1px rgba(60, 64, 67, 0.15);\n",
              "      fill: #174EA6;\n",
              "    }\n",
              "\n",
              "    [theme=dark] .colab-df-convert {\n",
              "      background-color: #3B4455;\n",
              "      fill: #D2E3FC;\n",
              "    }\n",
              "\n",
              "    [theme=dark] .colab-df-convert:hover {\n",
              "      background-color: #434B5C;\n",
              "      box-shadow: 0px 1px 3px 1px rgba(0, 0, 0, 0.15);\n",
              "      filter: drop-shadow(0px 1px 2px rgba(0, 0, 0, 0.3));\n",
              "      fill: #FFFFFF;\n",
              "    }\n",
              "  </style>\n",
              "\n",
              "      <script>\n",
              "        const buttonEl =\n",
              "          document.querySelector('#df-1bfaea1c-bca4-443e-878e-a20f22cdab2c button.colab-df-convert');\n",
              "        buttonEl.style.display =\n",
              "          google.colab.kernel.accessAllowed ? 'block' : 'none';\n",
              "\n",
              "        async function convertToInteractive(key) {\n",
              "          const element = document.querySelector('#df-1bfaea1c-bca4-443e-878e-a20f22cdab2c');\n",
              "          const dataTable =\n",
              "            await google.colab.kernel.invokeFunction('convertToInteractive',\n",
              "                                                     [key], {});\n",
              "          if (!dataTable) return;\n",
              "\n",
              "          const docLinkHtml = 'Like what you see? Visit the ' +\n",
              "            '<a target=\"_blank\" href=https://colab.research.google.com/notebooks/data_table.ipynb>data table notebook</a>'\n",
              "            + ' to learn more about interactive tables.';\n",
              "          element.innerHTML = '';\n",
              "          dataTable['output_type'] = 'display_data';\n",
              "          await google.colab.output.renderOutput(dataTable, element);\n",
              "          const docLink = document.createElement('div');\n",
              "          docLink.innerHTML = docLinkHtml;\n",
              "          element.appendChild(docLink);\n",
              "        }\n",
              "      </script>\n",
              "    </div>\n",
              "  </div>\n",
              "  "
            ]
          },
          "metadata": {},
          "execution_count": 53
        }
      ]
    },
    {
      "cell_type": "code",
      "source": [
        "swift_dataset.groupby('album')['popularity'].nlargest(1)"
      ],
      "metadata": {
        "colab": {
          "base_uri": "https://localhost:8080/"
        },
        "id": "0I4VhkyEvsmN",
        "outputId": "b9c0eb95-77f1-48ab-e471-09650a442fdb"
      },
      "execution_count": 57,
      "outputs": [
        {
          "output_type": "execute_result",
          "data": {
            "text/plain": [
              "album                           \n",
              "1989 (Deluxe)                60     82\n",
              "Fearless (Taylor's Version)  150    76\n",
              "Lover                        95     80\n",
              "Red (Deluxe Edition)         41     72\n",
              "Speak Now (Deluxe Package)   34     64\n",
              "Taylor Swift                 2      59\n",
              "evermore (deluxe version)    143    72\n",
              "folklore (deluxe version)    112    65\n",
              "reputation                   82     78\n",
              "Name: popularity, dtype: int64"
            ]
          },
          "metadata": {},
          "execution_count": 57
        }
      ]
    },
    {
      "cell_type": "code",
      "source": [
        "album = [\"1989\",\"Lover\",\"reputation\",\"Fearless\",\"Red\",\"evermore\",\"folklore\",\"Speak Now\",\"Taylor Swift\"]\n",
        "maxpopularity = [82,80,78,76,72,72,65,64,59]\n",
        "\n",
        "plt.bar(album, maxpopularity)\n",
        "plt.title('Highest Popularity Achieved by Album')\n",
        "plt.xlabel('Album')\n",
        "plt.ylabel('Highest Popularity Achieved')\n",
        "plt.xticks(fontsize=6)\n",
        "plt.show()"
      ],
      "metadata": {
        "colab": {
          "base_uri": "https://localhost:8080/",
          "height": 290
        },
        "id": "7rSvkGgTvso1",
        "outputId": "2ee6519d-2354-4055-bfb3-2868d1d8364e"
      },
      "execution_count": 59,
      "outputs": [
        {
          "output_type": "display_data",
          "data": {
            "text/plain": [
              "<Figure size 432x288 with 1 Axes>"
            ],
            "image/png": "[encoded data removed]"
          },
          "metadata": {
            "needs_background": "light"
          }
        }
      ]
    },
    {
      "cell_type": "code",
      "source": [
        "swift_dataset.groupby('album')['length'].nlargest(1)"
      ],
      "metadata": {
        "colab": {
          "base_uri": "https://localhost:8080/"
        },
        "id": "pDcGnb-n0Tt8",
        "outputId": "7ebf7d07-c0b9-44ba-c0fd-b9f9e66e4f7b"
      },
      "execution_count": 61,
      "outputs": [
        {
          "output_type": "execute_result",
          "data": {
            "text/plain": [
              "album                           \n",
              "1989 (Deluxe)                71     271000\n",
              "Fearless (Taylor's Version)  159    312107\n",
              "Lover                        110    293453\n",
              "Red (Deluxe Edition)         41     329160\n",
              "Speak Now (Deluxe Package)   19     403887\n",
              "Taylor Swift                 6      248106\n",
              "evermore (deluxe version)    134    315146\n",
              "folklore (deluxe version)    124    294520\n",
              "reputation                   79     244826\n",
              "Name: length, dtype: int64"
            ]
          },
          "metadata": {},
          "execution_count": 61
        }
      ]
    },
    {
      "cell_type": "code",
      "source": [
        "correlation = swift_dataset[['length','popularity']].corr()\n",
        "correlation"
      ],
      "metadata": {
        "colab": {
          "base_uri": "https://localhost:8080/",
          "height": 112
        },
        "id": "T36A8XiP0Txo",
        "outputId": "805c2736-f9a5-4681-f490-22e661fd87dd"
      },
      "execution_count": 64,
      "outputs": [
        {
          "output_type": "execute_result",
          "data": {
            "text/plain": [
              "              length  popularity\n",
              "length      1.000000    0.011772\n",
              "popularity  0.011772    1.000000"
            ],
            "text/html": [
              "\n",
              "  <div id=\"df-48d33d15-edc8-4501-9479-8ad625020af9\">\n",
              "    <div class=\"colab-df-container\">\n",
              "      <div>\n",
              "<style scoped>\n",
              "    .dataframe tbody tr th:only-of-type {\n",
              "        vertical-align: middle;\n",
              "    }\n",
              "\n",
              "    .dataframe tbody tr th {\n",
              "        vertical-align: top;\n",
              "    }\n",
              "\n",
              "    .dataframe thead th {\n",
              "        text-align: right;\n",
              "    }\n",
              "</style>\n",
              "<table border=\"1\" class=\"dataframe\">\n",
              "  <thead>\n",
              "    <tr style=\"text-align: right;\">\n",
              "      <th></th>\n",
              "      <th>length</th>\n",
              "      <th>popularity</th>\n",
              "    </tr>\n",
              "  </thead>\n",
              "  <tbody>\n",
              "    <tr>\n",
              "      <th>length</th>\n",
              "      <td>1.000000</td>\n",
              "      <td>0.011772</td>\n",
              "    </tr>\n",
              "    <tr>\n",
              "      <th>popularity</th>\n",
              "      <td>0.011772</td>\n",
              "      <td>1.000000</td>\n",
              "    </tr>\n",
              "  </tbody>\n",
              "</table>\n",
              "</div>\n",
              "      <button class=\"colab-df-convert\" onclick=\"convertToInteractive('df-48d33d15-edc8-4501-9479-8ad625020af9')\"\n",
              "              title=\"Convert this dataframe to an interactive table.\"\n",
              "              style=\"display:none;\">\n",
              "        \n",
              "  <svg xmlns=\"http://www.w3.org/2000/svg\" height=\"24px\"viewBox=\"0 0 24 24\"\n",
              "       width=\"24px\">\n",
              "    <path d=\"M0 0h24v24H0V0z\" fill=\"none\"/>\n",
              "    <path d=\"M18.56 5.44l.94 2.06.94-2.06 2.06-.94-2.06-.94-.94-2.06-.94 2.06-2.06.94zm-11 1L8.5 8.5l.94-2.06 2.06-.94-2.06-.94L8.5 2.5l-.94 2.06-2.06.94zm10 10l.94 2.06.94-2.06 2.06-.94-2.06-.94-.94-2.06-.94 2.06-2.06.94z\"/><path d=\"M17.41 7.96l-1.37-1.37c-.4-.4-.92-.59-1.43-.59-.52 0-1.04.2-1.43.59L10.3 9.45l-7.72 7.72c-.78.78-.78 2.05 0 2.83L4 21.41c.39.39.9.59 1.41.59.51 0 1.02-.2 1.41-.59l7.78-7.78 2.81-2.81c.8-.78.8-2.07 0-2.86zM5.41 20L4 18.59l7.72-7.72 1.47 1.35L5.41 20z\"/>\n",
              "  </svg>\n",
              "      </button>\n",
              "      \n",
              "  <style>\n",
              "    .colab-df-container {\n",
              "      display:flex;\n",
              "      flex-wrap:wrap;\n",
              "      gap: 12px;\n",
              "    }\n",
              "\n",
              "    .colab-df-convert {\n",
              "      background-color: #E8F0FE;\n",
              "      border: none;\n",
              "      border-radius: 50%;\n",
              "      cursor: pointer;\n",
              "      display: none;\n",
              "      fill: #1967D2;\n",
              "      height: 32px;\n",
              "      padding: 0 0 0 0;\n",
              "      width: 32px;\n",
              "    }\n",
              "\n",
              "    .colab-df-convert:hover {\n",
              "      background-color: #E2EBFA;\n",
              "      box-shadow: 0px 1px 2px rgba(60, 64, 67, 0.3), 0px 1px 3px 1px rgba(60, 64, 67, 0.15);\n",
              "      fill: #174EA6;\n",
              "    }\n",
              "\n",
              "    [theme=dark] .colab-df-convert {\n",
              "      background-color: #3B4455;\n",
              "      fill: #D2E3FC;\n",
              "    }\n",
              "\n",
              "    [theme=dark] .colab-df-convert:hover {\n",
              "      background-color: #434B5C;\n",
              "      box-shadow: 0px 1px 3px 1px rgba(0, 0, 0, 0.15);\n",
              "      filter: drop-shadow(0px 1px 2px rgba(0, 0, 0, 0.3));\n",
              "      fill: #FFFFFF;\n",
              "    }\n",
              "  </style>\n",
              "\n",
              "      <script>\n",
              "        const buttonEl =\n",
              "          document.querySelector('#df-48d33d15-edc8-4501-9479-8ad625020af9 button.colab-df-convert');\n",
              "        buttonEl.style.display =\n",
              "          google.colab.kernel.accessAllowed ? 'block' : 'none';\n",
              "\n",
              "        async function convertToInteractive(key) {\n",
              "          const element = document.querySelector('#df-48d33d15-edc8-4501-9479-8ad625020af9');\n",
              "          const dataTable =\n",
              "            await google.colab.kernel.invokeFunction('convertToInteractive',\n",
              "                                                     [key], {});\n",
              "          if (!dataTable) return;\n",
              "\n",
              "          const docLinkHtml = 'Like what you see? Visit the ' +\n",
              "            '<a target=\"_blank\" href=https://colab.research.google.com/notebooks/data_table.ipynb>data table notebook</a>'\n",
              "            + ' to learn more about interactive tables.';\n",
              "          element.innerHTML = '';\n",
              "          dataTable['output_type'] = 'display_data';\n",
              "          await google.colab.output.renderOutput(dataTable, element);\n",
              "          const docLink = document.createElement('div');\n",
              "          docLink.innerHTML = docLinkHtml;\n",
              "          element.appendChild(docLink);\n",
              "        }\n",
              "      </script>\n",
              "    </div>\n",
              "  </div>\n",
              "  "
            ]
          },
          "metadata": {},
          "execution_count": 64
        }
      ]
    },
    {
      "cell_type": "code",
      "source": [
        "sns.scatterplot(x = swift_dataset['length'], y = swift_dataset['popularity'])"
      ],
      "metadata": {
        "colab": {
          "base_uri": "https://localhost:8080/",
          "height": 297
        },
        "id": "fQRb4kH826IU",
        "outputId": "824eb69a-d9e7-451a-cfa5-155bc24d0ca0"
      },
      "execution_count": 66,
      "outputs": [
        {
          "output_type": "execute_result",
          "data": {
            "text/plain": [
              "<matplotlib.axes._subplots.AxesSubplot at 0x7f650d9eb8d0>"
            ]
          },
          "metadata": {},
          "execution_count": 66
        },
        {
          "output_type": "display_data",
          "data": {
            "text/plain": [
              "<Figure size 432x288 with 1 Axes>"
            ],
            "image/png": "[encoded data removed]"
          },
          "metadata": {
            "needs_background": "light"
          }
        }
      ]
    },
    {
      "cell_type": "code",
      "source": [
        "swift_dataset.groupby('album')['danceability'].nlargest(1)"
      ],
      "metadata": {
        "colab": {
          "base_uri": "https://localhost:8080/"
        },
        "id": "e8iJlIov0T5M",
        "outputId": "31d9be41-c787-424b-f57a-202df04b8887"
      },
      "execution_count": 67,
      "outputs": [
        {
          "output_type": "execute_result",
          "data": {
            "text/plain": [
              "album                           \n",
              "1989 (Deluxe)                71     0.815\n",
              "Fearless (Taylor's Version)  148    0.788\n",
              "Lover                        98     0.897\n",
              "Red (Deluxe Edition)         56     0.828\n",
              "Speak Now (Deluxe Package)   22     0.715\n",
              "Taylor Swift                 10     0.668\n",
              "evermore (deluxe version)    141    0.689\n",
              "folklore (deluxe version)    111    0.780\n",
              "reputation                   85     0.800\n",
              "Name: danceability, dtype: float64"
            ]
          },
          "metadata": {},
          "execution_count": 67
        }
      ]
    },
    {
      "cell_type": "code",
      "source": [
        "sns.scatterplot(x = swift_dataset['danceability'], y = swift_dataset['popularity'])"
      ],
      "metadata": {
        "colab": {
          "base_uri": "https://localhost:8080/",
          "height": 297
        },
        "id": "6EEPDzlB0T5w",
        "outputId": "c6430987-eb01-4bd0-c33e-a5b0a2b1a820"
      },
      "execution_count": 68,
      "outputs": [
        {
          "output_type": "execute_result",
          "data": {
            "text/plain": [
              "<matplotlib.axes._subplots.AxesSubplot at 0x7f650d954350>"
            ]
          },
          "metadata": {},
          "execution_count": 68
        },
        {
          "output_type": "display_data",
          "data": {
            "text/plain": [
              "<Figure size 432x288 with 1 Axes>"
            ],
            "image/png": "[encoded data removed]"
          },
          "metadata": {
            "needs_background": "light"
          }
        }
      ]
    },
    {
      "cell_type": "code",
      "source": [
        "swift_dataset.groupby('album')['acousticness'].nlargest(1)"
      ],
      "metadata": {
        "colab": {
          "base_uri": "https://localhost:8080/"
        },
        "id": "uN_S1X8Z0T6e",
        "outputId": "82b5e4f7-507c-4649-a1a1-5aa282314e62"
      },
      "execution_count": 69,
      "outputs": [
        {
          "output_type": "execute_result",
          "data": {
            "text/plain": [
              "album                           \n",
              "1989 (Deluxe)                75     0.829\n",
              "Fearless (Taylor's Version)  167    0.849\n",
              "Lover                        109    0.971\n",
              "Red (Deluxe Edition)         58     0.664\n",
              "Speak Now (Deluxe Package)   33     0.841\n",
              "Taylor Swift                 12     0.637\n",
              "evermore (deluxe version)    142    0.937\n",
              "folklore (deluxe version)    126    0.964\n",
              "reputation                   92     0.921\n",
              "Name: acousticness, dtype: float64"
            ]
          },
          "metadata": {},
          "execution_count": 69
        }
      ]
    },
    {
      "cell_type": "code",
      "source": [
        "sns.scatterplot(x = swift_dataset['acousticness'], y = swift_dataset['popularity'])"
      ],
      "metadata": {
        "colab": {
          "base_uri": "https://localhost:8080/",
          "height": 297
        },
        "id": "W9zwMtO50T81",
        "outputId": "733528a2-98b8-4791-9eb1-1b8a167768e1"
      },
      "execution_count": 70,
      "outputs": [
        {
          "output_type": "execute_result",
          "data": {
            "text/plain": [
              "<matplotlib.axes._subplots.AxesSubplot at 0x7f650d8e4150>"
            ]
          },
          "metadata": {},
          "execution_count": 70
        },
        {
          "output_type": "display_data",
          "data": {
            "text/plain": [
              "<Figure size 432x288 with 1 Axes>"
            ],
            "image/png": "[encoded data removed]"
          },
          "metadata": {
            "needs_background": "light"
          }
        }
      ]
    },
    {
      "cell_type": "code",
      "source": [
        "swift_dataset.groupby('album')['energy'].nlargest(1)"
      ],
      "metadata": {
        "colab": {
          "base_uri": "https://localhost:8080/"
        },
        "id": "_okGVXS10T_q",
        "outputId": "438cfd89-e030-48b6-e7b2-fa580c2da812"
      },
      "execution_count": 71,
      "outputs": [
        {
          "output_type": "execute_result",
          "data": {
            "text/plain": [
              "album                           \n",
              "1989 (Deluxe)                65     0.893\n",
              "Fearless (Taylor's Version)  152    0.909\n",
              "Lover                        108    0.830\n",
              "Red (Deluxe Edition)         57     0.902\n",
              "Speak Now (Deluxe Package)   26     0.944\n",
              "Taylor Swift                 11     0.934\n",
              "evermore (deluxe version)    139    0.730\n",
              "folklore (deluxe version)    122    0.700\n",
              "reputation                   90     0.789\n",
              "Name: energy, dtype: float64"
            ]
          },
          "metadata": {},
          "execution_count": 71
        }
      ]
    },
    {
      "cell_type": "code",
      "source": [
        "sns.scatterplot(x = swift_dataset['energy'], y = swift_dataset['popularity'])"
      ],
      "metadata": {
        "colab": {
          "base_uri": "https://localhost:8080/",
          "height": 297
        },
        "id": "frAfhVhd6oEx",
        "outputId": "e9316bf5-db16-4624-cd00-65bbe92706e9"
      },
      "execution_count": 72,
      "outputs": [
        {
          "output_type": "execute_result",
          "data": {
            "text/plain": [
              "<matplotlib.axes._subplots.AxesSubplot at 0x7f650d848610>"
            ]
          },
          "metadata": {},
          "execution_count": 72
        },
        {
          "output_type": "display_data",
          "data": {
            "text/plain": [
              "<Figure size 432x288 with 1 Axes>"
            ],
            "image/png": "[encoded data removed]"
          },
          "metadata": {
            "needs_background": "light"
          }
        }
      ]
    },
    {
      "cell_type": "code",
      "source": [
        "swift_dataset.groupby('album')['instrumentalness'].nlargest(1)"
      ],
      "metadata": {
        "colab": {
          "base_uri": "https://localhost:8080/"
        },
        "id": "GMxKFo4f6oLS",
        "outputId": "a1e07df1-73ba-4854-99b7-0d05dc79b705"
      },
      "execution_count": 73,
      "outputs": [
        {
          "output_type": "execute_result",
          "data": {
            "text/plain": [
              "album                           \n",
              "1989 (Deluxe)                68     0.008680\n",
              "Fearless (Taylor's Version)  169    0.000012\n",
              "Lover                        99     0.006150\n",
              "Red (Deluxe Edition)         48     0.033700\n",
              "Speak Now (Deluxe Package)   21     0.001610\n",
              "Taylor Swift                 11     0.000807\n",
              "evermore (deluxe version)    139    0.179000\n",
              "folklore (deluxe version)    113    0.004140\n",
              "reputation                   82     0.000357\n",
              "Name: instrumentalness, dtype: float64"
            ]
          },
          "metadata": {},
          "execution_count": 73
        }
      ]
    },
    {
      "cell_type": "code",
      "source": [
        "sns.scatterplot(x = swift_dataset['instrumentalness'], y = swift_dataset['popularity'])"
      ],
      "metadata": {
        "colab": {
          "base_uri": "https://localhost:8080/",
          "height": 297
        },
        "id": "vJYhXU-96oOH",
        "outputId": "89afddea-ed68-4c43-dffc-78a6125bf27a"
      },
      "execution_count": 74,
      "outputs": [
        {
          "output_type": "execute_result",
          "data": {
            "text/plain": [
              "<matplotlib.axes._subplots.AxesSubplot at 0x7f650d811210>"
            ]
          },
          "metadata": {},
          "execution_count": 74
        },
        {
          "output_type": "display_data",
          "data": {
            "text/plain": [
              "<Figure size 432x288 with 1 Axes>"
            ],
            "image/png": "[encoded data removed]"
          },
          "metadata": {
            "needs_background": "light"
          }
        }
      ]
    },
    {
      "cell_type": "code",
      "source": [
        "swift_dataset.groupby('album')['liveness'].nlargest(1)"
      ],
      "metadata": {
        "colab": {
          "base_uri": "https://localhost:8080/"
        },
        "id": "EK86s3Oc6oRP",
        "outputId": "e123629d-cfcd-4c58-f2b3-ad162f7dfb99"
      },
      "execution_count": 75,
      "outputs": [
        {
          "output_type": "execute_result",
          "data": {
            "text/plain": [
              "album                           \n",
              "1989 (Deluxe)                77     0.657\n",
              "Fearless (Taylor's Version)  162    0.343\n",
              "Lover                        102    0.319\n",
              "Red (Deluxe Edition)         50     0.311\n",
              "Speak Now (Deluxe Package)   24     0.359\n",
              "Taylor Swift                 10     0.329\n",
              "evermore (deluxe version)    128    0.145\n",
              "folklore (deluxe version)    112    0.260\n",
              "reputation                   90     0.382\n",
              "Name: liveness, dtype: float64"
            ]
          },
          "metadata": {},
          "execution_count": 75
        }
      ]
    },
    {
      "cell_type": "code",
      "source": [
        "sns.scatterplot(x = swift_dataset['liveness'], y = swift_dataset['popularity'])"
      ],
      "metadata": {
        "colab": {
          "base_uri": "https://localhost:8080/",
          "height": 297
        },
        "id": "J5JFmUpS6oUH",
        "outputId": "5e92d18d-d39f-4cc1-fb44-26768af1beec"
      },
      "execution_count": 76,
      "outputs": [
        {
          "output_type": "execute_result",
          "data": {
            "text/plain": [
              "<matplotlib.axes._subplots.AxesSubplot at 0x7f650d818e50>"
            ]
          },
          "metadata": {},
          "execution_count": 76
        },
        {
          "output_type": "display_data",
          "data": {
            "text/plain": [
              "<Figure size 432x288 with 1 Axes>"
            ],
            "image/png": "[encoded data removed]"
          },
          "metadata": {
            "needs_background": "light"
          }
        }
      ]
    },
    {
      "cell_type": "code",
      "source": [
        "swift_dataset.groupby('album')['loudness'].nlargest(1)"
      ],
      "metadata": {
        "colab": {
          "base_uri": "https://localhost:8080/"
        },
        "id": "_8lmd_-R0UE0",
        "outputId": "7a86b49c-eb0d-4bdd-f78a-32b1a5bf8ca9"
      },
      "execution_count": 77,
      "outputs": [
        {
          "output_type": "execute_result",
          "data": {
            "text/plain": [
              "album                           \n",
              "1989 (Deluxe)                59    -4.762\n",
              "Fearless (Taylor's Version)  152   -3.669\n",
              "Lover                        108   -4.105\n",
              "Red (Deluxe Edition)         38    -4.267\n",
              "Speak Now (Deluxe Package)   26    -2.641\n",
              "Taylor Swift                 1     -2.098\n",
              "evermore (deluxe version)    143   -6.524\n",
              "folklore (deluxe version)    111   -6.942\n",
              "reputation                   90    -5.986\n",
              "Name: loudness, dtype: float64"
            ]
          },
          "metadata": {},
          "execution_count": 77
        }
      ]
    },
    {
      "cell_type": "code",
      "source": [
        "sns.scatterplot(x = swift_dataset['loudness'], y = swift_dataset['popularity'])"
      ],
      "metadata": {
        "colab": {
          "base_uri": "https://localhost:8080/",
          "height": 297
        },
        "id": "AdhM5klg6zTF",
        "outputId": "432b3a48-54c7-4bb3-83f8-41562c5df5ef"
      },
      "execution_count": 78,
      "outputs": [
        {
          "output_type": "execute_result",
          "data": {
            "text/plain": [
              "<matplotlib.axes._subplots.AxesSubplot at 0x7f650d769f10>"
            ]
          },
          "metadata": {},
          "execution_count": 78
        },
        {
          "output_type": "display_data",
          "data": {
            "text/plain": [
              "<Figure size 432x288 with 1 Axes>"
            ],
            "image/png": "[encoded data removed]"
          },
          "metadata": {
            "needs_background": "light"
          }
        }
      ]
    },
    {
      "cell_type": "code",
      "source": [
        "swift_dataset.groupby('album')['speechiness'].nlargest(1)"
      ],
      "metadata": {
        "colab": {
          "base_uri": "https://localhost:8080/"
        },
        "id": "M6jbTVZH6zV0",
        "outputId": "cda21d7d-6a74-43ea-f094-8e22a8113066"
      },
      "execution_count": 79,
      "outputs": [
        {
          "output_type": "execute_result",
          "data": {
            "text/plain": [
              "album                           \n",
              "1989 (Deluxe)                76     0.9120\n",
              "Fearless (Taylor's Version)  152    0.0628\n",
              "Lover                        93     0.5190\n",
              "Red (Deluxe Edition)         44     0.0916\n",
              "Speak Now (Deluxe Package)   24     0.0887\n",
              "Taylor Swift                 11     0.0646\n",
              "evermore (deluxe version)    141    0.2450\n",
              "folklore (deluxe version)    125    0.0821\n",
              "reputation                   88     0.1960\n",
              "Name: speechiness, dtype: float64"
            ]
          },
          "metadata": {},
          "execution_count": 79
        }
      ]
    },
    {
      "cell_type": "code",
      "source": [
        "sns.scatterplot(x = swift_dataset['speechiness'], y = swift_dataset['popularity'])"
      ],
      "metadata": {
        "colab": {
          "base_uri": "https://localhost:8080/",
          "height": 297
        },
        "id": "RM3bf6LJ6zZf",
        "outputId": "6e2be5eb-dc3e-4413-e4a3-2d8708e2fec4"
      },
      "execution_count": 80,
      "outputs": [
        {
          "output_type": "execute_result",
          "data": {
            "text/plain": [
              "<matplotlib.axes._subplots.AxesSubplot at 0x7f650d707e90>"
            ]
          },
          "metadata": {},
          "execution_count": 80
        },
        {
          "output_type": "display_data",
          "data": {
            "text/plain": [
              "<Figure size 432x288 with 1 Axes>"
            ],
            "image/png": "[encoded data removed]"
          },
          "metadata": {
            "needs_background": "light"
          }
        }
      ]
    },
    {
      "cell_type": "code",
      "source": [
        "swift_dataset.groupby('album')['valence'].nlargest(1)"
      ],
      "metadata": {
        "colab": {
          "base_uri": "https://localhost:8080/"
        },
        "id": "rG6kPf9e6zd5",
        "outputId": "19229f1a-48d3-471a-adcf-c1f830844cd1"
      },
      "execution_count": 81,
      "outputs": [
        {
          "output_type": "execute_result",
          "data": {
            "text/plain": [
              "album                           \n",
              "1989 (Deluxe)                64     0.942\n",
              "Fearless (Taylor's Version)  148    0.797\n",
              "Lover                        100    0.865\n",
              "Red (Deluxe Edition)         45     0.928\n",
              "Speak Now (Deluxe Package)   21     0.840\n",
              "Taylor Swift                 1      0.821\n",
              "evermore (deluxe version)    141    0.920\n",
              "folklore (deluxe version)    113    0.701\n",
              "reputation                   83     0.506\n",
              "Name: valence, dtype: float64"
            ]
          },
          "metadata": {},
          "execution_count": 81
        }
      ]
    },
    {
      "cell_type": "code",
      "source": [
        "sns.scatterplot(x = swift_dataset['valence'], y = swift_dataset['popularity'])"
      ],
      "metadata": {
        "colab": {
          "base_uri": "https://localhost:8080/",
          "height": 297
        },
        "id": "sm8vmhnr60vp",
        "outputId": "d02f5d6d-89b8-4ab1-b32d-72a1f739e39c"
      },
      "execution_count": 82,
      "outputs": [
        {
          "output_type": "execute_result",
          "data": {
            "text/plain": [
              "<matplotlib.axes._subplots.AxesSubplot at 0x7f650d65df50>"
            ]
          },
          "metadata": {},
          "execution_count": 82
        },
        {
          "output_type": "display_data",
          "data": {
            "text/plain": [
              "<Figure size 432x288 with 1 Axes>"
            ],
            "image/png": "[encoded data removed]"
          },
          "metadata": {
            "needs_background": "light"
          }
        }
      ]
    },
    {
      "cell_type": "code",
      "source": [
        "swift_dataset.groupby('album')['tempo'].nlargest(1)"
      ],
      "metadata": {
        "colab": {
          "base_uri": "https://localhost:8080/"
        },
        "id": "S6kPKMzF605C",
        "outputId": "fae5ff17-c9b8-40e8-9a10-240691a22b81"
      },
      "execution_count": 83,
      "outputs": [
        {
          "output_type": "execute_result",
          "data": {
            "text/plain": [
              "album                           \n",
              "1989 (Deluxe)                72     184.014\n",
              "Fearless (Taylor's Version)  159    200.391\n",
              "Lover                        104    207.476\n",
              "Red (Deluxe Edition)         47     157.043\n",
              "Speak Now (Deluxe Package)   28     203.959\n",
              "Taylor Swift                 14     199.997\n",
              "evermore (deluxe version)    129    171.319\n",
              "folklore (deluxe version)    127    179.947\n",
              "reputation                   86     172.054\n",
              "Name: tempo, dtype: float64"
            ]
          },
          "metadata": {},
          "execution_count": 83
        }
      ]
    },
    {
      "cell_type": "code",
      "source": [
        "sns.scatterplot(x = swift_dataset['tempo'], y = swift_dataset['popularity'])"
      ],
      "metadata": {
        "colab": {
          "base_uri": "https://localhost:8080/",
          "height": 297
        },
        "id": "Od18ZiVx7OD9",
        "outputId": "f2938923-da7c-4151-de0a-a6c9861a9c8a"
      },
      "execution_count": 84,
      "outputs": [
        {
          "output_type": "execute_result",
          "data": {
            "text/plain": [
              "<matplotlib.axes._subplots.AxesSubplot at 0x7f650d5b5850>"
            ]
          },
          "metadata": {},
          "execution_count": 84
        },
        {
          "output_type": "display_data",
          "data": {
            "text/plain": [
              "<Figure size 432x288 with 1 Axes>"
            ],
            "image/png": "[encoded data removed]"
          },
          "metadata": {
            "needs_background": "light"
          }
        }
      ]
    }
  ]
}